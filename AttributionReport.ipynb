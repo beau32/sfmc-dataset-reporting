{
 "cells": [
  {
   "cell_type": "code",
   "execution_count": 1,
   "metadata": {},
   "outputs": [],
   "source": [
    "import pandas as pd\n",
    "import numpy as np\n",
    "from sklearn.model_selection import train_test_split\n",
    "from sklearn.ensemble import RandomForestClassifier\n",
    "from sklearn.metrics import accuracy_score, classification_report"
   ]
  },
  {
   "cell_type": "code",
   "execution_count": 68,
   "metadata": {},
   "outputs": [],
   "source": [
    "df_events = pd.read_csv('sfmc_csv/subscriber_events.csv')"
   ]
  },
  {
   "cell_type": "code",
   "execution_count": 57,
   "metadata": {},
   "outputs": [
    {
     "data": {
      "text/html": [
       "<div>\n",
       "<style scoped>\n",
       "    .dataframe tbody tr th:only-of-type {\n",
       "        vertical-align: middle;\n",
       "    }\n",
       "\n",
       "    .dataframe tbody tr th {\n",
       "        vertical-align: top;\n",
       "    }\n",
       "\n",
       "    .dataframe thead th {\n",
       "        text-align: right;\n",
       "    }\n",
       "</style>\n",
       "<table border=\"1\" class=\"dataframe\">\n",
       "  <thead>\n",
       "    <tr style=\"text-align: right;\">\n",
       "      <th></th>\n",
       "      <th>SubscriberKey</th>\n",
       "      <th>Event</th>\n",
       "      <th>Domain</th>\n",
       "      <th>Timestamp</th>\n",
       "      <th>JobID</th>\n",
       "    </tr>\n",
       "  </thead>\n",
       "  <tbody>\n",
       "    <tr>\n",
       "      <th>0</th>\n",
       "      <td>aaron02@example.org</td>\n",
       "      <td>unsub</td>\n",
       "      <td>example.org</td>\n",
       "      <td>2024-04-25 00:20:48.898632</td>\n",
       "      <td>442411</td>\n",
       "    </tr>\n",
       "    <tr>\n",
       "      <th>1</th>\n",
       "      <td>aaron30@example.org</td>\n",
       "      <td>click</td>\n",
       "      <td>example.org</td>\n",
       "      <td>2024-04-28 10:08:46.575807</td>\n",
       "      <td>355427</td>\n",
       "    </tr>\n",
       "    <tr>\n",
       "      <th>2</th>\n",
       "      <td>aaron30@example.org</td>\n",
       "      <td>unsub</td>\n",
       "      <td>example.org</td>\n",
       "      <td>2024-04-28 10:08:46.575807</td>\n",
       "      <td>964505</td>\n",
       "    </tr>\n",
       "    <tr>\n",
       "      <th>3</th>\n",
       "      <td>aaron85@example.org</td>\n",
       "      <td>open</td>\n",
       "      <td>example.org</td>\n",
       "      <td>2024-04-10 17:35:42.060171</td>\n",
       "      <td>701968</td>\n",
       "    </tr>\n",
       "    <tr>\n",
       "      <th>4</th>\n",
       "      <td>aaron85@example.org</td>\n",
       "      <td>unsub</td>\n",
       "      <td>example.org</td>\n",
       "      <td>2024-04-10 17:35:42.060171</td>\n",
       "      <td>217868</td>\n",
       "    </tr>\n",
       "    <tr>\n",
       "      <th>...</th>\n",
       "      <td>...</td>\n",
       "      <td>...</td>\n",
       "      <td>...</td>\n",
       "      <td>...</td>\n",
       "      <td>...</td>\n",
       "    </tr>\n",
       "    <tr>\n",
       "      <th>4009</th>\n",
       "      <td>zwise@example.net</td>\n",
       "      <td>sent</td>\n",
       "      <td>example.net</td>\n",
       "      <td>2024-04-09 19:00:34.543371</td>\n",
       "      <td>795586</td>\n",
       "    </tr>\n",
       "    <tr>\n",
       "      <th>4010</th>\n",
       "      <td>zwise@example.net</td>\n",
       "      <td>click</td>\n",
       "      <td>example.net</td>\n",
       "      <td>2024-04-09 19:02:56.543371</td>\n",
       "      <td>334812</td>\n",
       "    </tr>\n",
       "    <tr>\n",
       "      <th>4011</th>\n",
       "      <td>zwise@example.net</td>\n",
       "      <td>open</td>\n",
       "      <td>example.net</td>\n",
       "      <td>2024-04-09 19:56:56.543371</td>\n",
       "      <td>577041</td>\n",
       "    </tr>\n",
       "    <tr>\n",
       "      <th>4012</th>\n",
       "      <td>zwise@example.net</td>\n",
       "      <td>open</td>\n",
       "      <td>example.net</td>\n",
       "      <td>2024-04-09 20:25:56.543371</td>\n",
       "      <td>217868</td>\n",
       "    </tr>\n",
       "    <tr>\n",
       "      <th>4013</th>\n",
       "      <td>zwise@example.net</td>\n",
       "      <td>sent</td>\n",
       "      <td>example.net</td>\n",
       "      <td>2024-04-29 14:31:15.622476</td>\n",
       "      <td>436466</td>\n",
       "    </tr>\n",
       "  </tbody>\n",
       "</table>\n",
       "<p>4014 rows × 5 columns</p>\n",
       "</div>"
      ],
      "text/plain": [
       "            SubscriberKey  Event       Domain                   Timestamp  \\\n",
       "0     aaron02@example.org  unsub  example.org  2024-04-25 00:20:48.898632   \n",
       "1     aaron30@example.org  click  example.org  2024-04-28 10:08:46.575807   \n",
       "2     aaron30@example.org  unsub  example.org  2024-04-28 10:08:46.575807   \n",
       "3     aaron85@example.org   open  example.org  2024-04-10 17:35:42.060171   \n",
       "4     aaron85@example.org  unsub  example.org  2024-04-10 17:35:42.060171   \n",
       "...                   ...    ...          ...                         ...   \n",
       "4009    zwise@example.net   sent  example.net  2024-04-09 19:00:34.543371   \n",
       "4010    zwise@example.net  click  example.net  2024-04-09 19:02:56.543371   \n",
       "4011    zwise@example.net   open  example.net  2024-04-09 19:56:56.543371   \n",
       "4012    zwise@example.net   open  example.net  2024-04-09 20:25:56.543371   \n",
       "4013    zwise@example.net   sent  example.net  2024-04-29 14:31:15.622476   \n",
       "\n",
       "       JobID  \n",
       "0     442411  \n",
       "1     355427  \n",
       "2     964505  \n",
       "3     701968  \n",
       "4     217868  \n",
       "...      ...  \n",
       "4009  795586  \n",
       "4010  334812  \n",
       "4011  577041  \n",
       "4012  217868  \n",
       "4013  436466  \n",
       "\n",
       "[4014 rows x 5 columns]"
      ]
     },
     "execution_count": 57,
     "metadata": {},
     "output_type": "execute_result"
    }
   ],
   "source": [
    "df_events"
   ]
  },
  {
   "cell_type": "code",
   "execution_count": 69,
   "metadata": {},
   "outputs": [],
   "source": [
    "df_events['Timestamp'] = pd.to_datetime(df_events['Timestamp'])\n",
    "\n",
    "# Group by campaign_id and event_type, then count the number of events\n",
    "aggregated_df = df_events.groupby(['JobID', 'Event']).size().reset_index(name='count')\n",
    "\n",
    "# Pivot the dataframe to have event types as columns\n",
    "pivot_df = aggregated_df.pivot(index='JobID', columns='Event', values='count').reset_index()\n",
    "\n",
    "# Rename columns to make it more readable\n",
    "pivot_df = pivot_df.rename(columns={\n",
    "    'click': 'clicks',\n",
    "    'sent': 'sends',\n",
    "    'open': 'opens',\n",
    "    'unsub': 'unsubscribes'\n",
    "})"
   ]
  },
  {
   "cell_type": "code",
   "execution_count": 79,
   "metadata": {},
   "outputs": [
    {
     "name": "stdout",
     "output_type": "stream",
     "text": [
      "                             JobID     clicks      sends  unsubscribes\n",
      "FirstSendDate                                                         \n",
      "2024-04-01 00:03:14.288397  769322  58.000000  56.000000     54.000000\n",
      "2024-04-01 01:02:00.690477  795586  52.500000  52.000000     46.000000\n",
      "2024-04-01 01:22:10.039801  785129  51.666667  48.666667     45.666667\n",
      "2024-04-01 01:37:12.556168  217868  49.500000  49.750000     47.750000\n",
      "2024-04-01 02:41:58.634487  577041  48.400000  50.000000     46.200000\n",
      "2024-04-01 02:55:20.207145  964505  50.000000  48.833333     49.333333\n",
      "2024-04-01 03:55:35.355185  412782  50.000000  49.571429     49.857143\n",
      "2024-04-01 04:49:41.019917  943918  49.375000  50.750000     50.500000\n",
      "2024-04-01 04:52:48.218123  730458  48.000000  50.555556     50.666667\n",
      "2024-04-01 07:10:16.194822  243237  47.000000  51.400000     51.400000\n",
      "2024-04-01 09:21:28.584129  855010  47.727273  51.727273     50.272727\n",
      "2024-04-01 09:50:35.648352  411052  48.500000  51.833333     50.583333\n",
      "2024-04-01 11:43:25.229094  701968  48.769231  52.692308     50.076923\n",
      "2024-04-01 13:57:47.331205  736652  48.571429  52.500000     50.142857\n",
      "2024-04-01 16:16:54.714872  688897  49.466667  53.000000     50.800000\n",
      "2024-04-01 16:23:56.071107  334812  48.937500  52.375000     49.812500\n",
      "2024-04-01 17:47:58.352791  355427  49.000000  52.529412     49.941176\n",
      "2024-04-01 23:11:16.360451  436466  48.777778  52.444444     49.722222\n",
      "2024-04-02 01:16:13.254526  735189  48.947368  52.578947     49.684211\n",
      "2024-04-02 16:23:48.261606  442411  49.150000  52.550000     50.000000\n"
     ]
    }
   ],
   "source": [
    "\n",
    "first_send_dates = df_events[df_events['Event'] == 'sent'].groupby('JobID')['Timestamp'].min().reset_index()\n",
    "\n",
    "first_send_dates = first_send_dates.rename(columns={'Timestamp': 'FirstSendDate'})\n",
    "\n",
    "final_df = pd.merge(pivot_df, first_send_dates, on='JobID', how='left')\n",
    "\n",
    "# Calculate the rolling 7-day average for 'clicks', 'sends', and 'unsubscribes'\n",
    "\n",
    "# Ensure there are no NaN values in counts\n",
    "final_df = final_df.fillna(0)\n",
    "\n",
    "# Convert 'FirstSendDate' to datetime format and set it as the index\n",
    "final_df['FirstSendDate'] = pd.to_datetime(final_df['FirstSendDate'])\n",
    "final_df = final_df.set_index('FirstSendDate')\n",
    "\n",
    "# Sort the DataFrame by the index (FirstSendDate)\n",
    "final_df = final_df.sort_index()\n",
    "# Calculate the rolling 7-day average for 'clicks', 'sends', and 'unsubscribes'\n",
    "rolling_df = final_df[['clicks', 'sends', 'unsubscribes']].rolling(window='7D').mean()\n",
    "\n",
    "# Concatenate 'JobID' column to the rolling_df\n",
    "rolling_df['JobID'] = final_df['JobID']\n",
    "\n",
    "# Reorder columns for better readability\n",
    "rolling_df = rolling_df[['JobID', 'clicks', 'sends', 'unsubscribes']]\n",
    "\n",
    "# Display the final DataFrame with rolling averages and JobID\n",
    "print(rolling_df)"
   ]
  },
  {
   "cell_type": "code",
   "execution_count": 52,
   "metadata": {},
   "outputs": [
    {
     "name": "stdout",
     "output_type": "stream",
     "text": [
      "Subscriber-level report on events contributing to 'unsub' event:\n",
      "                           ContributingEvent  ContributingEventWeight  \\\n",
      "aaron02@example.org                     None                        0   \n",
      "aaron30@example.org                    click                        3   \n",
      "aaron85@example.org                     open                        2   \n",
      "aaronpatterson@example.net             click                        3   \n",
      "abigail96@example.net                  click                        3   \n",
      "...                                      ...                      ...   \n",
      "zraymond@example.com                   click                        3   \n",
      "zsmith@example.com                      sent                        1   \n",
      "zwallace@example.org                    open                        2   \n",
      "zwilliamson@example.net                 None                        0   \n",
      "zwise@example.net                      click                        3   \n",
      "\n",
      "                           LastTouch          LastTouchTimestamp  \n",
      "aaron02@example.org            unsub  2024-04-25 00:20:48.898632  \n",
      "aaron30@example.org            click  2024-04-28 10:08:46.575807  \n",
      "aaron85@example.org             open  2024-04-10 17:35:42.060171  \n",
      "aaronpatterson@example.net     click  2024-04-11 01:11:55.031645  \n",
      "abigail96@example.net           sent  2024-04-11 06:04:34.031431  \n",
      "...                              ...                         ...  \n",
      "zraymond@example.com           click  2024-04-22 13:02:15.412984  \n",
      "zsmith@example.com              sent  2024-04-11 21:48:34.112601  \n",
      "zwallace@example.org            open  2024-04-20 22:53:45.728173  \n",
      "zwilliamson@example.net        unsub  2024-04-20 09:29:50.196993  \n",
      "zwise@example.net               sent  2024-04-02 06:45:01.727209  \n",
      "\n",
      "[997 rows x 4 columns]\n"
     ]
    }
   ],
   "source": [
    "# Define weights for each event type\n",
    "event_weights = {'sent': 1, 'open': 2, 'click': 3}\n",
    "\n",
    "# Function to determine the event with the highest weight preceding the \"unsub\" event\n",
    "def analyze_preceding_event(subscriber_events):\n",
    "    max_weight = 0\n",
    "    preceding_event = None\n",
    "    \n",
    "    for index, row in subscriber_events.iterrows():\n",
    "        event_type = row['Event']\n",
    "        weight = event_weights.get(event_type, 0)\n",
    "        \n",
    "        if weight > max_weight:\n",
    "            max_weight = weight\n",
    "            preceding_event = event_type\n",
    "            \n",
    "    return preceding_event, max_weight\n",
    "\n",
    "# Dictionary to store the contributing event, its weight, last touch, and last touch timestamp for each subscriber\n",
    "subscriber_touches = {}\n",
    "\n",
    "# Iterate through DataFrame and organize events for each subscriber\n",
    "for index, row in df_events.iterrows():\n",
    "    subscriber = row['SubscriberKey']\n",
    "    event_type = row['Event']\n",
    "    timestamp = row['Timestamp']\n",
    "    \n",
    "    if subscriber not in subscriber_touches:\n",
    "        subscriber_touches[subscriber] = {'ContributingEvent': None, 'ContributingEventWeight': None, 'LastTouch': None, 'LastTouchTimestamp': None}\n",
    "    \n",
    "    if event_type == 'unsub' and subscriber_touches[subscriber]['ContributingEvent'] is None:\n",
    "        events_before_unsub = df_events[(df_events['SubscriberKey'] == subscriber) & (df_events['Timestamp'] <= timestamp)]\n",
    "        preceding_event, weight = analyze_preceding_event(events_before_unsub)\n",
    "        subscriber_touches[subscriber]['ContributingEvent'] = preceding_event\n",
    "        subscriber_touches[subscriber]['ContributingEventWeight'] = weight\n",
    "        \n",
    "        # Find the last touch event and timestamp\n",
    "        last_touch_event = events_before_unsub.iloc[0]['Event']\n",
    "        last_touch_timestamp = events_before_unsub.iloc[0]['Timestamp']\n",
    "        subscriber_touches[subscriber]['LastTouch'] = last_touch_event\n",
    "        subscriber_touches[subscriber]['LastTouchTimestamp'] = last_touch_timestamp\n",
    "\n",
    "# Convert dictionary to DataFrame for better visualization\n",
    "subscriber_touches_df = pd.DataFrame.from_dict(subscriber_touches, orient='index')\n",
    "\n",
    "print(\"Subscriber-level report on events contributing to 'unsub' event:\")\n",
    "print(subscriber_touches_df)\n"
   ]
  },
  {
   "cell_type": "code",
   "execution_count": 53,
   "metadata": {},
   "outputs": [],
   "source": [
    "subscriber_touches_df.to_csv('/users/bo/Downloads/result.csv')"
   ]
  },
  {
   "cell_type": "code",
   "execution_count": 54,
   "metadata": {},
   "outputs": [],
   "source": [
    "# Convert timestamp column to datetime format\n",
    "df_events['Timestamp'] = pd.to_datetime(df_events['Timestamp'])\n",
    "\n",
    "# Calculate time differences between consecutive events for each subscriber\n",
    "df_events['time_diff'] = df_events.groupby('SubscriberKey')['Timestamp'].diff().fillna(pd.Timedelta(seconds=0))\n",
    "\n",
    "df_events['time_diff_seconds'] = (df_events['time_diff'] / pd.Timedelta(seconds=1)).astype('int')\n",
    "\n",
    "df_events['hour'] = df_events['Timestamp'].dt.hour\n",
    "df_events['day_of_week'] = df_events['Timestamp'].dt.dayofweek  # Monday=0, Sunday=6\n"
   ]
  },
  {
   "cell_type": "code",
   "execution_count": 55,
   "metadata": {},
   "outputs": [
    {
     "name": "stdout",
     "output_type": "stream",
     "text": [
      "Accuracy: 1.0\n",
      "Classification Report:\n",
      "              precision    recall  f1-score   support\n",
      "\n",
      "       False       1.00      1.00      1.00       583\n",
      "        True       1.00      1.00      1.00       220\n",
      "\n",
      "    accuracy                           1.00       803\n",
      "   macro avg       1.00      1.00      1.00       803\n",
      "weighted avg       1.00      1.00      1.00       803\n",
      "\n"
     ]
    }
   ],
   "source": [
    "\n",
    "\n",
    "# Convert categorical variables into numerical values using one-hot encoding\n",
    "data = pd.get_dummies(df_events, columns=['Event', 'Domain'])\n",
    "\n",
    "# Define features and target variable\n",
    "features = data.drop(['SubscriberKey', 'Timestamp','Event_unsub','time_diff'], axis=1)  # Exclude 'subscriberkey' and 'timestamp' from features\n",
    "target = data['Event_unsub']  # Assuming 'event_type_open' is the target variable\n",
    "\n",
    "\n",
    "# Split the data into training and testing sets\n",
    "X_train, X_test, y_train, y_test = train_test_split(features, target, test_size=0.2, random_state=42)\n",
    "\n",
    "# Initialize the Random Forest Classifier\n",
    "rf_classifier = RandomForestClassifier(n_estimators=100, random_state=42)\n",
    "\n",
    "# Train the classifier\n",
    "rf_classifier.fit(X_train, y_train)\n",
    "\n",
    "# Predict on the testing set\n",
    "predictions = rf_classifier.predict(X_test)\n",
    "\n",
    "# Evaluate the model\n",
    "accuracy = accuracy_score(y_test, predictions)\n",
    "print(\"Accuracy:\", accuracy)\n",
    "\n",
    "# Generate a classification report\n",
    "print(\"Classification Report:\")\n",
    "print(classification_report(y_test, predictions))"
   ]
  },
  {
   "cell_type": "code",
   "execution_count": 199,
   "metadata": {},
   "outputs": [
    {
     "data": {
      "text/html": [
       "<div>\n",
       "<style scoped>\n",
       "    .dataframe tbody tr th:only-of-type {\n",
       "        vertical-align: middle;\n",
       "    }\n",
       "\n",
       "    .dataframe tbody tr th {\n",
       "        vertical-align: top;\n",
       "    }\n",
       "\n",
       "    .dataframe thead th {\n",
       "        text-align: right;\n",
       "    }\n",
       "</style>\n",
       "<table border=\"1\" class=\"dataframe\">\n",
       "  <thead>\n",
       "    <tr style=\"text-align: right;\">\n",
       "      <th></th>\n",
       "      <th>no_sends_within_month</th>\n",
       "      <th>JobID</th>\n",
       "      <th>day_of_week</th>\n",
       "      <th>Event_click</th>\n",
       "      <th>Event_open</th>\n",
       "      <th>Event_sent</th>\n",
       "    </tr>\n",
       "  </thead>\n",
       "  <tbody>\n",
       "    <tr>\n",
       "      <th>0</th>\n",
       "      <td>214</td>\n",
       "      <td>442411</td>\n",
       "      <td>3</td>\n",
       "      <td>False</td>\n",
       "      <td>False</td>\n",
       "      <td>False</td>\n",
       "    </tr>\n",
       "    <tr>\n",
       "      <th>1</th>\n",
       "      <td>210</td>\n",
       "      <td>355427</td>\n",
       "      <td>6</td>\n",
       "      <td>True</td>\n",
       "      <td>False</td>\n",
       "      <td>False</td>\n",
       "    </tr>\n",
       "    <tr>\n",
       "      <th>2</th>\n",
       "      <td>221</td>\n",
       "      <td>964505</td>\n",
       "      <td>6</td>\n",
       "      <td>False</td>\n",
       "      <td>False</td>\n",
       "      <td>False</td>\n",
       "    </tr>\n",
       "    <tr>\n",
       "      <th>3</th>\n",
       "      <td>218</td>\n",
       "      <td>701968</td>\n",
       "      <td>2</td>\n",
       "      <td>False</td>\n",
       "      <td>True</td>\n",
       "      <td>False</td>\n",
       "    </tr>\n",
       "    <tr>\n",
       "      <th>4</th>\n",
       "      <td>199</td>\n",
       "      <td>217868</td>\n",
       "      <td>2</td>\n",
       "      <td>False</td>\n",
       "      <td>False</td>\n",
       "      <td>False</td>\n",
       "    </tr>\n",
       "    <tr>\n",
       "      <th>...</th>\n",
       "      <td>...</td>\n",
       "      <td>...</td>\n",
       "      <td>...</td>\n",
       "      <td>...</td>\n",
       "      <td>...</td>\n",
       "      <td>...</td>\n",
       "    </tr>\n",
       "    <tr>\n",
       "      <th>4009</th>\n",
       "      <td>187</td>\n",
       "      <td>795586</td>\n",
       "      <td>1</td>\n",
       "      <td>False</td>\n",
       "      <td>False</td>\n",
       "      <td>True</td>\n",
       "    </tr>\n",
       "    <tr>\n",
       "      <th>4010</th>\n",
       "      <td>162</td>\n",
       "      <td>334812</td>\n",
       "      <td>1</td>\n",
       "      <td>True</td>\n",
       "      <td>False</td>\n",
       "      <td>False</td>\n",
       "    </tr>\n",
       "    <tr>\n",
       "      <th>4011</th>\n",
       "      <td>177</td>\n",
       "      <td>577041</td>\n",
       "      <td>1</td>\n",
       "      <td>False</td>\n",
       "      <td>True</td>\n",
       "      <td>False</td>\n",
       "    </tr>\n",
       "    <tr>\n",
       "      <th>4012</th>\n",
       "      <td>199</td>\n",
       "      <td>217868</td>\n",
       "      <td>1</td>\n",
       "      <td>False</td>\n",
       "      <td>True</td>\n",
       "      <td>False</td>\n",
       "    </tr>\n",
       "    <tr>\n",
       "      <th>4013</th>\n",
       "      <td>182</td>\n",
       "      <td>436466</td>\n",
       "      <td>0</td>\n",
       "      <td>False</td>\n",
       "      <td>False</td>\n",
       "      <td>True</td>\n",
       "    </tr>\n",
       "  </tbody>\n",
       "</table>\n",
       "<p>4014 rows × 6 columns</p>\n",
       "</div>"
      ],
      "text/plain": [
       "      no_sends_within_month   JobID  day_of_week  Event_click  Event_open  \\\n",
       "0                       214  442411            3        False       False   \n",
       "1                       210  355427            6         True       False   \n",
       "2                       221  964505            6        False       False   \n",
       "3                       218  701968            2        False        True   \n",
       "4                       199  217868            2        False       False   \n",
       "...                     ...     ...          ...          ...         ...   \n",
       "4009                    187  795586            1        False       False   \n",
       "4010                    162  334812            1         True       False   \n",
       "4011                    177  577041            1        False        True   \n",
       "4012                    199  217868            1        False        True   \n",
       "4013                    182  436466            0        False       False   \n",
       "\n",
       "      Event_sent  \n",
       "0          False  \n",
       "1          False  \n",
       "2          False  \n",
       "3          False  \n",
       "4          False  \n",
       "...          ...  \n",
       "4009        True  \n",
       "4010       False  \n",
       "4011       False  \n",
       "4012       False  \n",
       "4013        True  \n",
       "\n",
       "[4014 rows x 6 columns]"
      ]
     },
     "execution_count": 199,
     "metadata": {},
     "output_type": "execute_result"
    }
   ],
   "source": [
    "features"
   ]
  },
  {
   "cell_type": "code",
   "execution_count": 200,
   "metadata": {},
   "outputs": [
    {
     "name": "stdout",
     "output_type": "stream",
     "text": [
      "Feature ranking:\n",
      "1. feature 1 (0.357228): JobID\n"
     ]
    },
    {
     "ename": "IndexError",
     "evalue": "index 6 is out of bounds for axis 0 with size 6",
     "output_type": "error",
     "traceback": [
      "\u001b[0;31m---------------------------------------------------------------------------\u001b[0m",
      "\u001b[0;31mIndexError\u001b[0m                                Traceback (most recent call last)",
      "Cell \u001b[0;32mIn[200], line 12\u001b[0m\n\u001b[1;32m     10\u001b[0m \u001b[38;5;28mprint\u001b[39m(\u001b[38;5;124m\"\u001b[39m\u001b[38;5;124mFeature ranking:\u001b[39m\u001b[38;5;124m\"\u001b[39m)\n\u001b[1;32m     11\u001b[0m \u001b[38;5;28;01mfor\u001b[39;00m f \u001b[38;5;129;01min\u001b[39;00m \u001b[38;5;28mrange\u001b[39m(X_train\u001b[38;5;241m.\u001b[39mshape[\u001b[38;5;241m1\u001b[39m]):\n\u001b[0;32m---> 12\u001b[0m     \u001b[38;5;28mprint\u001b[39m(\u001b[38;5;124m\"\u001b[39m\u001b[38;5;132;01m%d\u001b[39;00m\u001b[38;5;124m. feature \u001b[39m\u001b[38;5;132;01m%d\u001b[39;00m\u001b[38;5;124m (\u001b[39m\u001b[38;5;132;01m%f\u001b[39;00m\u001b[38;5;124m): \u001b[39m\u001b[38;5;132;01m%s\u001b[39;00m\u001b[38;5;124m\"\u001b[39m \u001b[38;5;241m%\u001b[39m (f \u001b[38;5;241m+\u001b[39m \u001b[38;5;241m1\u001b[39m, indices[f], importances[indices[f]], \u001b[43mfeature_names\u001b[49m\u001b[43m[\u001b[49m\u001b[43mindices\u001b[49m\u001b[43m[\u001b[49m\u001b[43mf\u001b[49m\u001b[43m]\u001b[49m\u001b[43m]\u001b[49m))\n",
      "File \u001b[0;32m~/Library/Python/3.9/lib/python/site-packages/pandas/core/indexes/base.py:5389\u001b[0m, in \u001b[0;36mIndex.__getitem__\u001b[0;34m(self, key)\u001b[0m\n\u001b[1;32m   5386\u001b[0m \u001b[38;5;28;01mif\u001b[39;00m is_integer(key) \u001b[38;5;129;01mor\u001b[39;00m is_float(key):\n\u001b[1;32m   5387\u001b[0m     \u001b[38;5;66;03m# GH#44051 exclude bool, which would return a 2d ndarray\u001b[39;00m\n\u001b[1;32m   5388\u001b[0m     key \u001b[38;5;241m=\u001b[39m com\u001b[38;5;241m.\u001b[39mcast_scalar_indexer(key)\n\u001b[0;32m-> 5389\u001b[0m     \u001b[38;5;28;01mreturn\u001b[39;00m \u001b[43mgetitem\u001b[49m\u001b[43m(\u001b[49m\u001b[43mkey\u001b[49m\u001b[43m)\u001b[49m\n\u001b[1;32m   5391\u001b[0m \u001b[38;5;28;01mif\u001b[39;00m \u001b[38;5;28misinstance\u001b[39m(key, \u001b[38;5;28mslice\u001b[39m):\n\u001b[1;32m   5392\u001b[0m     \u001b[38;5;66;03m# This case is separated from the conditional above to avoid\u001b[39;00m\n\u001b[1;32m   5393\u001b[0m     \u001b[38;5;66;03m# pessimization com.is_bool_indexer and ndim checks.\u001b[39;00m\n\u001b[1;32m   5394\u001b[0m     \u001b[38;5;28;01mreturn\u001b[39;00m \u001b[38;5;28mself\u001b[39m\u001b[38;5;241m.\u001b[39m_getitem_slice(key)\n",
      "\u001b[0;31mIndexError\u001b[0m: index 6 is out of bounds for axis 0 with size 6"
     ]
    }
   ],
   "source": [
    "import numpy as np\n",
    "# Get feature importances\n",
    "importances = rf_classifier.feature_importances_\n",
    "feature_names = X_train.columns\n",
    "\n",
    "# Sort feature importances in descending order\n",
    "indices = np.argsort(importances)[::-1]\n",
    "\n",
    "# Print the feature ranking\n",
    "print(\"Feature ranking:\")\n",
    "for f in range(X_train.shape[1]):\n",
    "    print(\"%d. feature %d (%f): %s\" % (f + 1, indices[f], importances[indices[f]], feature_names[indices[f]]))\n"
   ]
  },
  {
   "cell_type": "code",
   "execution_count": 196,
   "metadata": {},
   "outputs": [
    {
     "data": {
      "image/png": "[encoded data removed]",
      "text/plain": [
       "<Figure size 1000x600 with 1 Axes>"
      ]
     },
     "metadata": {},
     "output_type": "display_data"
    }
   ],
   "source": [
    "\n",
    "# Create a DataFrame to store feature importances\n",
    "feature_importance_df = pd.DataFrame({'Feature': feature_names, 'Importance': importances})\n",
    "\n",
    "# Sort the DataFrame by feature importance\n",
    "feature_importance_df = feature_importance_df.sort_values(by='Importance', ascending=True)\n",
    "\n",
    "# Plot feature importances\n",
    "plt.figure(figsize=(10, 6))\n",
    "plt.barh(feature_importance_df['Feature'], feature_importance_df['Importance'])\n",
    "plt.xlabel('Importance')\n",
    "plt.ylabel('Feature')\n",
    "plt.title('Feature Importances')\n",
    "plt.show()\n"
   ]
  },
  {
   "cell_type": "code",
   "execution_count": 58,
   "metadata": {},
   "outputs": [
    {
     "data": {
      "image/png": "[encoded data removed]",
      "text/plain": [
       "<Figure size 1000x800 with 2 Axes>"
      ]
     },
     "metadata": {},
     "output_type": "display_data"
    }
   ],
   "source": [
    "correlation_matrix = data[['Event_open', 'Event_click', 'Event_sent','Event_unsub','JobID']].corr()\n",
    "\n",
    "# Plot the correlation matrix as a heatmap\n",
    "plt.figure(figsize=(10, 8))\n",
    "sns.heatmap(correlation_matrix, annot=True, cmap='coolwarm', fmt=\".2f\")\n",
    "plt.title('Correlation Matrix')\n",
    "plt.show()"
   ]
  },
  {
   "cell_type": "code",
   "execution_count": 76,
   "metadata": {},
   "outputs": [
    {
     "name": "stdout",
     "output_type": "stream",
     "text": [
      "Average Hr: 11\n",
      "Average Day: 3\n",
      "Average Number of Sends Before Unsubscribe: 1\n"
     ]
    }
   ],
   "source": [
    "\n",
    "# Filter data to include only unsubscribe events\n",
    "unsub_data = data[data['Event_unsub'] == 1]\n",
    "\n",
    "# Initialize lists to store optimal times and number of sends\n",
    "optimal_times_hr = []\n",
    "optimal_times_day = []\n",
    "num_sends_list = []\n",
    "\n",
    "# Group by subscriber and analyze sending patterns\n",
    "for subscriber, subgroup in unsub_data.groupby('SubscriberKey'):\n",
    "    # Sort events by timestamp\n",
    "    subgroup = subgroup.sort_values(by='Timestamp')\n",
    "    \n",
    "    # Determine optimal sent time\n",
    "    optimal_sent_hr = subgroup['hour'].mode().iloc[0]\n",
    "    optimal_sent_day = subgroup['day_of_week'].mode().iloc[0]\n",
    "    optimal_times_hr.append(optimal_sent_hr)\n",
    "    optimal_times_day.append(optimal_sent_day)\n",
    "    \n",
    "    # Count number of sends before unsubscribing\n",
    "    num_sends = len(subgroup)\n",
    "    num_sends_list.append(num_sends)\n",
    "\n",
    "# Calculate average optimal time and average number of sends\n",
    "average_optimal_hr = pd.Series(optimal_times_hr).mean()\n",
    "average_optimal_day = pd.Series(optimal_times_day).mean()\n",
    "average_num_sends = pd.Series(num_sends_list).mean()\n",
    "\n",
    "print(f\"Average Hr: {round(average_optimal_hr)}\")\n",
    "print(f\"Average Day: {round(average_optimal_day)}\")\n",
    "print(f\"Average Number of Sends Before Unsubscribe: {round(average_num_sends)}\")"
   ]
  },
  {
   "cell_type": "code",
   "execution_count": 101,
   "metadata": {},
   "outputs": [],
   "source": [
    "# Filter data to include only the relevant columns (subscriberKey, event_type_sent, event_type_open, event_type_click)\n",
    "filtered_data = data[['SubscriberKey', 'Event_sent', 'Event_open', 'Event_click','JobID']]\n",
    "\n",
    "# Group by subscriberKey and sum the event counts\n",
    "event_counts = filtered_data.groupby(['SubscriberKey','JobID']).sum().reset_index()\n"
   ]
  },
  {
   "cell_type": "code",
   "execution_count": 102,
   "metadata": {},
   "outputs": [
    {
     "name": "stdout",
     "output_type": "stream",
     "text": [
      "Average number of Sent events before Unsubscribe: 0\n",
      "Average number of Open events before Unsubscribe: 0\n",
      "Average number of Click events before Unsubscribe: 0\n"
     ]
    }
   ],
   "source": [
    "\n",
    "\n",
    "# Calculate average number of each event type before unsubscribing\n",
    "average_sent = event_counts['Event_sent'].mean()\n",
    "average_open = event_counts['Event_open'].mean()\n",
    "average_click = event_counts['Event_click'].mean()\n",
    "\n",
    "print(f\"Average number of Sent events before Unsubscribe: {round(average_sent)}\")\n",
    "print(f\"Average number of Open events before Unsubscribe: {round(average_open)}\")\n",
    "print(f\"Average number of Click events before Unsubscribe: {round(average_click)}\")\n"
   ]
  },
  {
   "cell_type": "code",
   "execution_count": 106,
   "metadata": {},
   "outputs": [
    {
     "name": "stdout",
     "output_type": "stream",
     "text": [
      "Average number of Sent events before Unsubscribe: 53\n",
      "Average number of Open events before Unsubscribe: 49\n",
      "Average number of Click events before Unsubscribe: 49\n"
     ]
    }
   ],
   "source": [
    "event_counts_per_job = filtered_data.groupby('JobID').sum()\n",
    "\n",
    "# Calculate the average number of Sent events before Unsubscribe\n",
    "average_sent = event_counts_per_job['Event_sent'].mean()\n",
    "\n",
    "# Calculate the average number of Open events before Unsubscribe\n",
    "average_open = event_counts_per_job['Event_open'].mean()\n",
    "\n",
    "# Calculate the average number of Click events before Unsubscribe\n",
    "average_click = event_counts_per_job['Event_click'].mean()\n",
    "\n",
    "print(f\"Average number of Sent events before Unsubscribe: {round(average_sent)}\")\n",
    "print(f\"Average number of Open events before Unsubscribe: {round(average_open)}\")\n",
    "print(f\"Average number of Click events before Unsubscribe: {round(average_click)}\")\n"
   ]
  },
  {
   "cell_type": "code",
   "execution_count": 137,
   "metadata": {},
   "outputs": [],
   "source": [
    "# Group by send_id and calculate the number of sends within a month\n",
    "send_data = data.groupby('JobID').agg({'Timestamp': 'count'}).reset_index()\n",
    "send_data.rename(columns={'Timestamp': 'no_sends_within_month'}, inplace=True)\n"
   ]
  },
  {
   "cell_type": "code",
   "execution_count": 138,
   "metadata": {},
   "outputs": [
    {
     "name": "stderr",
     "output_type": "stream",
     "text": [
      "/var/folders/x6/bynsqbrs5lj68zq_w2fcwzxr0000gn/T/ipykernel_14507/3326091219.py:4: FutureWarning: A value is trying to be set on a copy of a DataFrame or Series through chained assignment using an inplace method.\n",
      "The behavior will change in pandas 3.0. This inplace method will never work because the intermediate object on which we are setting values always behaves as a copy.\n",
      "\n",
      "For example, when doing 'df[col].method(value, inplace=True)', try using 'df.method({col: value}, inplace=True)' or df[col] = df[col].method(value) instead, to perform the operation inplace on the original object.\n",
      "\n",
      "\n",
      "  send_data['number_of_unsubscribes'].fillna(0, inplace=True)  # Fill missing values with 0 if there are no unsubscribes for a send_id\n"
     ]
    }
   ],
   "source": [
    "unsub_data = data[data['Event_unsub'] == 1]\n",
    "unsub_counts = unsub_data.groupby('JobID').size().reset_index(name='number_of_unsubscribes')\n",
    "send_data = pd.merge(send_data, unsub_counts, on='JobID', how='left')\n",
    "send_data['number_of_unsubscribes'].fillna(0, inplace=True)  # Fill missing values with 0 if there are no unsubscribes for a send_id\n"
   ]
  },
  {
   "cell_type": "code",
   "execution_count": 139,
   "metadata": {},
   "outputs": [],
   "source": [
    "merged_data = pd.merge(data, send_data, on='JobID', how='inner')"
   ]
  },
  {
   "cell_type": "code",
   "execution_count": 164,
   "metadata": {},
   "outputs": [],
   "source": [
    "\n",
    "\n",
    "# Define features and label\n",
    "features = merged_data[['no_sends_within_month','JobID','day_of_week','Event_click','Event_open', 'Event_sent']]\n",
    "label = merged_data['number_of_unsubscribes']\n"
   ]
  },
  {
   "cell_type": "code",
   "execution_count": 194,
   "metadata": {},
   "outputs": [
    {
     "name": "stdout",
     "output_type": "stream",
     "text": [
      "Mean Squared Error: 0.0\n"
     ]
    }
   ],
   "source": [
    "from sklearn.ensemble import RandomForestRegressor\n",
    "from sklearn.metrics import mean_squared_error\n",
    "import pickle\n",
    "\n",
    "X_train, X_test, y_train, y_test = train_test_split(features, label, test_size=0.2, random_state=42)\n",
    "\n",
    "rf_regressor = RandomForestRegressor(n_estimators=100, random_state=42)\n",
    "rf_regressor.fit(X_train, y_train)\n",
    "\n",
    "# Make predictions\n",
    "predictions = rf_regressor.predict(X_test)\n",
    "\n",
    "# Evaluate the model\n",
    "mse = mean_squared_error(y_test, predictions)\n",
    "print(\"Mean Squared Error:\", mse)\n",
    "\n",
    "# Assuming rf_regressor is your trained RandomForestRegressor model\n",
    "with open('trained_model.pkl', 'wb') as f:\n",
    "    pickle.dump(rf_regressor, f)\n",
    "\n"
   ]
  },
  {
   "cell_type": "code",
   "execution_count": 192,
   "metadata": {},
   "outputs": [
    {
     "name": "stdout",
     "output_type": "stream",
     "text": [
      "       JobID  no_sends_within_month  Predicted_number_of_unsubscribes\n",
      "3879  943918                    208                              55.0\n",
      "2319  855010                    203                              39.0\n",
      "2717  412782                    207                              53.0\n",
      "1288  411052                    219                              54.0\n",
      "3143  577041                    177                              40.0\n",
      "...      ...                    ...                               ...\n",
      "2102  436466                    182                              46.0\n",
      "1006  334812                    162                              35.0\n",
      "3797  217868                    199                              54.0\n",
      "2098  735189                    212                              49.0\n",
      "3455  334812                    162                              35.0\n",
      "\n",
      "[803 rows x 3 columns]\n"
     ]
    }
   ],
   "source": [
    "prediction_df = pd.DataFrame({'JobID': X_test['JobID'], 'no_sends_within_month': X_test['no_sends_within_month'], 'Predicted_number_of_unsubscribes': predictions})\n",
    "\n",
    "print(prediction_df)"
   ]
  },
  {
   "cell_type": "code",
   "execution_count": 193,
   "metadata": {},
   "outputs": [
    {
     "ename": "ValueError",
     "evalue": "invalid literal for int() with base 10: ''",
     "output_type": "error",
     "traceback": [
      "\u001b[0;31m---------------------------------------------------------------------------\u001b[0m",
      "\u001b[0;31mValueError\u001b[0m                                Traceback (most recent call last)",
      "Cell \u001b[0;32mIn[193], line 19\u001b[0m\n\u001b[1;32m     16\u001b[0m     \u001b[38;5;28;01mreturn\u001b[39;00m prediction\n\u001b[1;32m     18\u001b[0m \u001b[38;5;66;03m# Define command-line arguments as variables\u001b[39;00m\n\u001b[0;32m---> 19\u001b[0m number_of_sends \u001b[38;5;241m=\u001b[39m \u001b[38;5;28;43mint\u001b[39;49m\u001b[43m(\u001b[49m\u001b[38;5;28;43minput\u001b[39;49m\u001b[43m(\u001b[49m\u001b[38;5;124;43m\"\u001b[39;49m\u001b[38;5;124;43mEnter the number of sends within a month: \u001b[39;49m\u001b[38;5;124;43m\"\u001b[39;49m\u001b[43m)\u001b[49m\u001b[43m)\u001b[49m\n\u001b[1;32m     20\u001b[0m Event_click \u001b[38;5;241m=\u001b[39m \u001b[38;5;28mbool\u001b[39m(\u001b[38;5;28minput\u001b[39m(\u001b[38;5;124m\"\u001b[39m\u001b[38;5;124mEnter the event click: \u001b[39m\u001b[38;5;124m\"\u001b[39m))\n\u001b[1;32m     21\u001b[0m Event_open \u001b[38;5;241m=\u001b[39m \u001b[38;5;28mbool\u001b[39m(\u001b[38;5;28minput\u001b[39m(\u001b[38;5;124m\"\u001b[39m\u001b[38;5;124mEnter the event open: \u001b[39m\u001b[38;5;124m\"\u001b[39m))\n",
      "\u001b[0;31mValueError\u001b[0m: invalid literal for int() with base 10: ''"
     ]
    }
   ],
   "source": [
    "\n",
    "\n",
    "def predict_unsubscribes(number_of_sends, JobID, day_of_week, Event_sent, Event_open, Event_click):\n",
    "    # Load your trained model\n",
    "\n",
    "    with open(\"trained_model.pkl\", \"rb\") as f:\n",
    "        rf_regressor = pickle.load(f)\n",
    "        features = merged_data[['no_sends_within_month','JobID','day_of_week','Event_click','Event_open', 'Event_sent']]\n",
    "\n",
    "    # Preprocess the input data\n",
    "    input_data = pd.DataFrame({'no_sends_within_month': [number_of_sends], 'JobID': [JobID]\n",
    "                                ,'day_of_week':[day_of_week], 'Event_click':[Event_click]\n",
    "                               ,'Event_open':[Event_open], 'Event_sent':[Event_sent] })\n",
    "\n",
    "    # Make prediction\n",
    "    prediction = rf_regressor.predict(input_data)\n",
    "\n",
    "    return prediction\n",
    "\n",
    "# Define command-line arguments as variables\n",
    "number_of_sends = int(input(\"Enter the number of sends within a month: \"))\n",
    "Event_click = bool(input(\"Enter the event click: \"))\n",
    "Event_open = bool(input(\"Enter the event open: \"))\n",
    "Event_sent = bool(input(\"Enter the event sent: \"))\n",
    "day_of_week =  int(input(\"Enter the day of week: \"))\n",
    "JobID = int(input(\"Enter the send ID: \"))\n",
    "\n",
    "# Call the predict_unsubscribes function with provided inputs\n",
    "prediction = predict_unsubscribes(number_of_sends, JobID, day_of_week, Event_sent, Event_open, Event_click)\n",
    "\n",
    "print(\"Predicted number of unsubscribes:\", prediction)\n"
   ]
  }
 ],
 "metadata": {
  "kernelspec": {
   "display_name": "Python 3",
   "language": "python",
   "name": "python3"
  },
  "language_info": {
   "codemirror_mode": {
    "name": "ipython",
    "version": 3
   },
   "file_extension": ".py",
   "mimetype": "text/x-python",
   "name": "python",
   "nbconvert_exporter": "python",
   "pygments_lexer": "ipython3",
   "version": "3.9.6"
  }
 },
 "nbformat": 4,
 "nbformat_minor": 2
}
